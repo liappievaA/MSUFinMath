{
 "cells": [
  {
   "cell_type": "markdown",
   "metadata": {},
   "source": [
    "<h4>Home work by Mathematical Finance</h4>\n",
    "<h5>Solution by Lyappieva Anastasiia</h5>\n",
    "<h5>22.09.2024</h5>\n",
    "\n",
    "<strong>Task</strong>: calculate YTM fixed coupon bond. \n",
    "\n",
    "<p><strong>Parametrs</strong>: <br> \n",
    "<ol>\n",
    "<li>TimeToMaturity = 3 years;</li><br> \n",
    "<li>PresentValue = 879.5$;</li><br>\n",
    "<li>FaseValue = 1000$;</li><br>\n",
    "<li>CouponRate = 0.03;</li><br>\n",
    "<li>Coupon payment frequency = 6 months. </ol> </p>\n",
    "\n",
    "<strong>Solution:</strong>\n",
    "We will find r from the equation: $879.5 = \\frac{30}{(1+\\frac{r}{2})^{1}} + \\frac{30}{(1+\\frac{r}{2})^{2}} + \\frac{30}{(1+\\frac{r}{2})^{3}} + \\frac{30}{(1+\\frac{r}{2})^{4}} + \\frac{30}{(1+\\frac{r}{2})^{5}} + \\frac{1030}{(1+\\frac{r}{2})^{6}} = \\sum_{t = 1}^{6} \\frac{30}{(1+\\frac{r}{2})^{t}} + \\frac{1000}{(1+\\frac{r}{2})^{6}}$\n",
    "\n"
   ]
  },
  {
   "cell_type": "code",
   "execution_count": 7,
   "metadata": {},
   "outputs": [
    {
     "name": "stdout",
     "output_type": "stream",
     "text": [
      "YTM = 10.809777949745914%\n"
     ]
    }
   ],
   "source": [
    "from scipy.optimize import fsolve\n",
    "TimeToMaturity = 3\n",
    "PresentValue = 879.5\n",
    "FaseValue = 1000\n",
    "CouponRate = 0.03\n",
    "Coupon_payment = FaseValue * CouponRate\n",
    "Periods = 2*TimeToMaturity\n",
    "\n",
    "def bond_price(ytm, FaseValue, PresentValue, Coupon_payment, Periods): \n",
    "    price = sum([Coupon_payment  / (1 + ytm/2)**(t) for t in range(1, Periods + 1)]) + FaseValue / (1 + ytm/2)**(Periods) \n",
    "    return price - PresentValue \n",
    " \n",
    "ytm = fsolve(bond_price, x0 = 0, args=(FaseValue, PresentValue, Coupon_payment, Periods))[0] \n",
    "YTM = ytm * 100\n",
    "print(\"YTM = {}%\".format(YTM))\n"
   ]
  }
 ],
 "metadata": {
  "kernelspec": {
   "display_name": "Python 3",
   "language": "python",
   "name": "python3"
  },
  "language_info": {
   "codemirror_mode": {
    "name": "ipython",
    "version": 3
   },
   "file_extension": ".py",
   "mimetype": "text/x-python",
   "name": "python",
   "nbconvert_exporter": "python",
   "pygments_lexer": "ipython3",
   "version": "3.12.4"
  }
 },
 "nbformat": 4,
 "nbformat_minor": 2
}
